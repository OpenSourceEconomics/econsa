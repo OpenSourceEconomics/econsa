{
 "cells": [
  {
   "cell_type": "markdown",
   "metadata": {},
   "source": [
    "# Quantitative sensitivity analysis\n"
   ]
  },
  {
   "cell_type": "markdown",
   "metadata": {},
   "source": [
    "## Generalized Sobol Indices"
   ]
  },
  {
   "cell_type": "markdown",
   "metadata": {},
   "source": [
    "\n",
    "Here we show how to compute generalized Sobol indices on the **EOQ** model using the algorithm presented in Kucherenko et al. 2012. We import our model function from ``temfpy`` and use the Kucherenko indices function from ``econsa``. "
   ]
  },
  {
   "cell_type": "code",
   "execution_count": 2,
   "metadata": {},
   "outputs": [],
   "source": [
    "import matplotlib.pyplot as plt  # noqa: F401\n",
    "import numpy as np\n",
    "\n",
    "from temfpy.uncertainty_quantification import eoq_model\n",
    "\n",
    "# TODO: Reactivate once Tim's PR is ready.\n",
    "# from econsa.kucherenko import kucherenko_indices  # noqa: E265"
   ]
  },
  {
   "cell_type": "markdown",
   "metadata": {},
   "source": [
    "The function ``kucherenko_indices`` expects the input function to be broadcastable over rows, that is, a row represents the input arguments for one evaluation. For sampling around the mean parameters we specify a diagonal covariance matrix, where the variances depend on the scaling of the mean. Since the variances of the parameters are unknown prior to our analysis we choose values such that the probability of sampling negative values is negligible. We do this since the **EOQ** model is not defined for negative parameters and the normal sampling does not naturally account for bounds."
   ]
  },
  {
   "cell_type": "code",
   "execution_count": 2,
   "metadata": {},
   "outputs": [],
   "source": [
    "def eoq_model_transposed(x):\n",
    "    \"\"\"EOQ Model but with variables stored in columns.\"\"\"\n",
    "    return eoq_model(x.T)\n",
    "\n",
    "mean = np.array([1230, 0.0135, 2.15])\n",
    "cov = np.diag([1, 0.000001, 0.01])\n",
    "\n",
    "# indices = kucherenko_indices( # noqa: E265\n",
    "#    func=eoq_model_transposed, # noqa: E265\n",
    "#    sampling_mean=mean,  # noqa: E265\n",
    "#    sampling_cov=cov,  # noqa: E265\n",
    "#    n_draws=1_000_000,  # noqa: E265\n",
    "#    sampling_scheme=\"sobol\",  # noqa: E265\n",
    "# )  # noqa: E265"
   ]
  },
  {
   "cell_type": "markdown",
   "metadata": {},
   "source": [
    "Now we are ready to inspect the results."
   ]
  },
  {
   "cell_type": "code",
   "execution_count": 3,
   "metadata": {
    "nbsphinx": "hidden"
   },
   "outputs": [],
   "source": [
    "# sobol_first = indices.loc[(slice(None), \"first_order\"), \"value\"].values  # noqa: E265\n",
    "# sobol_total = indices.loc[(slice(None), \"total\"), \"value\"].values # noqa: E265\n",
    "\n",
    "# x = np.arange(3)  # the label locations  # noqa: E265\n",
    "# width = 0.35  # the width of the bars  # noqa: E265\n",
    "\n",
    "# fig, ax = plt.subplots()  # noqa: E265\n",
    "# rects1 = ax.bar(x - width / 2, sobol_first, width, label=\"First-order\")  # noqa: E265\n",
    "# rects2 = ax.bar(x + width / 2, sobol_total, width, label=\"Total\")  # noqa: E265\n",
    "\n",
    "# ax.set_ylim([0, 1])  # noqa: E265\n",
    "# ax.legend()  # noqa: E265\n",
    "\n",
    "# ax.set_xticks(x)  # noqa: E265\n",
    "# ax.set_xticklabels([\"$x_0$\", \"$x_1$\", \"$x_2$\"])  # noqa: E265\n",
    "# ax.legend();  # noqa: E265"
   ]
  },
  {
   "cell_type": "code",
   "execution_count": 4,
   "metadata": {},
   "outputs": [],
   "source": [
    "# fig  # noqa: E265"
   ]
  },
  {
   "cell_type": "markdown",
   "metadata": {},
   "source": [
    "## Shapley value"
   ]
  },
  {
   "cell_type": "markdown",
   "metadata": {},
   "source": [
    "### Tutorial: A Linear Model with Three Inputs"
   ]
  },
  {
   "cell_type": "markdown",
   "metadata": {},
   "source": [
    "#### The Execution"
   ]
  },
  {
   "cell_type": "code",
   "execution_count": 6,
   "metadata": {},
   "outputs": [],
   "source": [
    "# import necessary packages and functions\n",
    "import numpy as np\n",
    "import chaospy as cp\n",
    "\n",
    "from econsa.shapley import get_shapley\n",
    "from econsa.shapley import _r_condmvn"
   ]
  },
  {
   "cell_type": "markdown",
   "metadata": {},
   "source": [
    "Load all neccesary inputs for the model, you will need:\n",
    "- a vector of mean estimates\n",
    "- a covariance matrix\n",
    "- the model you are conducting SA on\n",
    "- the functions ``x_all`` and ``x_cond`` for conditional sampling. These functions depend on the distribution from which you are sampling from - for the purposes of this ilustration, we will sample from a multvariate normal distribution, but the functions can be tailored to needs."
   ]
  },
  {
   "cell_type": "code",
   "execution_count": 69,
   "metadata": {},
   "outputs": [],
   "source": [
    "# mean and covaraince matrix inputs\n",
    "n_inputs = 3\n",
    "mean = np.array([1230, 0.0135, 2.15])\n",
    "cov = np.diag([1, 0.000001, 0.01])"
   ]
  },
  {
   "cell_type": "code",
   "execution_count": 93,
   "metadata": {},
   "outputs": [],
   "source": [
    "# model for which senstivity analysis is being performed\n",
    "\n",
    "def eoq_model_ndarray(x, r=0.1):\n",
    "    \"\"\"EOQ Model that accepts ndarray.\"\"\"\n",
    "    m = x[:,0]\n",
    "    c = x[:,1]\n",
    "    s = x[:,2]    \n",
    "    return np.sqrt((24 * m * s) / (r * c))    "
   ]
  },
  {
   "cell_type": "code",
   "execution_count": 71,
   "metadata": {},
   "outputs": [],
   "source": [
    "# functions for conditional sampling\n",
    "def x_all(n):\n",
    "    distribution = cp.MvNormal(mean, cov)\n",
    "    return distribution.sample(n)\n",
    "\n",
    "def x_cond(n, subset_j, subsetj_conditional, xjc):\n",
    "    if subsetj_conditional is None:\n",
    "        cov_int = np.array(cov)\n",
    "        cov_int = cov_int.take(subset_j, axis = 1)\n",
    "        cov_int = cov_int[subset_j]\n",
    "        distribution = cp.MvNormal(mean[subset_j], cov_int)\n",
    "        return distribution.sample(n)\n",
    "    else:\n",
    "        return _r_condmvn(n, mean = mean, cov = cov, dependent_ind = subset_j, given_ind = subsetj_conditional, x_given = xjc)"
   ]
  },
  {
   "cell_type": "code",
   "execution_count": 84,
   "metadata": {},
   "outputs": [],
   "source": [
    "# estimate Shapley effects using the exact method\n",
    "method = 'exact'\n",
    "np.random.seed(1234)\n",
    "n_perms = None\n",
    "n_output = 10**4\n",
    "n_outer = 10**3\n",
    "n_inner = 10**2\n",
    "\n",
    "exact_shapley = get_shapley(method, eoq_model, x_all, x_cond, n_perms, n_inputs, n_output, n_outer, n_inner)"
   ]
  },
  {
   "cell_type": "code",
   "execution_count": 85,
   "metadata": {},
   "outputs": [
    {
     "data": {
      "text/html": [
       "<div>\n",
       "<style scoped>\n",
       "    .dataframe tbody tr th:only-of-type {\n",
       "        vertical-align: middle;\n",
       "    }\n",
       "\n",
       "    .dataframe tbody tr th {\n",
       "        vertical-align: top;\n",
       "    }\n",
       "\n",
       "    .dataframe thead th {\n",
       "        text-align: right;\n",
       "    }\n",
       "</style>\n",
       "<table border=\"1\" class=\"dataframe\">\n",
       "  <thead>\n",
       "    <tr style=\"text-align: right;\">\n",
       "      <th></th>\n",
       "      <th>Shapley effects</th>\n",
       "      <th>std. errors</th>\n",
       "      <th>CI_min</th>\n",
       "      <th>CI_max</th>\n",
       "    </tr>\n",
       "  </thead>\n",
       "  <tbody>\n",
       "    <tr>\n",
       "      <th>X1</th>\n",
       "      <td>0.007457</td>\n",
       "      <td>0.004145</td>\n",
       "      <td>-0.000668</td>\n",
       "      <td>0.015582</td>\n",
       "    </tr>\n",
       "    <tr>\n",
       "      <th>X2</th>\n",
       "      <td>0.713300</td>\n",
       "      <td>0.003929</td>\n",
       "      <td>0.705599</td>\n",
       "      <td>0.721001</td>\n",
       "    </tr>\n",
       "    <tr>\n",
       "      <th>X3</th>\n",
       "      <td>0.279243</td>\n",
       "      <td>0.004271</td>\n",
       "      <td>0.270872</td>\n",
       "      <td>0.287614</td>\n",
       "    </tr>\n",
       "  </tbody>\n",
       "</table>\n",
       "</div>"
      ],
      "text/plain": [
       "    Shapley effects  std. errors    CI_min    CI_max\n",
       "X1         0.007457     0.004145 -0.000668  0.015582\n",
       "X2         0.713300     0.003929  0.705599  0.721001\n",
       "X3         0.279243     0.004271  0.270872  0.287614"
      ]
     },
     "execution_count": 85,
     "metadata": {},
     "output_type": "execute_result"
    }
   ],
   "source": [
    "exact_shapley"
   ]
  },
  {
   "cell_type": "code",
   "execution_count": 96,
   "metadata": {},
   "outputs": [],
   "source": [
    "# estimate Shapley effects using the random method\n",
    "method = 'random'\n",
    "np.random.seed(1234)\n",
    "n_perms = 20000\n",
    "n_output = 10**4\n",
    "n_outer = 1\n",
    "n_inner = 3\n",
    "\n",
    "\n",
    "random_shapley = get_shapley(method, eoq_model, x_all, x_cond, n_perms, n_inputs, n_output, n_outer, n_inner)"
   ]
  },
  {
   "cell_type": "code",
   "execution_count": 97,
   "metadata": {},
   "outputs": [
    {
     "data": {
      "text/html": [
       "<div>\n",
       "<style scoped>\n",
       "    .dataframe tbody tr th:only-of-type {\n",
       "        vertical-align: middle;\n",
       "    }\n",
       "\n",
       "    .dataframe tbody tr th {\n",
       "        vertical-align: top;\n",
       "    }\n",
       "\n",
       "    .dataframe thead th {\n",
       "        text-align: right;\n",
       "    }\n",
       "</style>\n",
       "<table border=\"1\" class=\"dataframe\">\n",
       "  <thead>\n",
       "    <tr style=\"text-align: right;\">\n",
       "      <th></th>\n",
       "      <th>Shapley effects</th>\n",
       "      <th>std. errors</th>\n",
       "      <th>CI_min</th>\n",
       "      <th>CI_max</th>\n",
       "    </tr>\n",
       "  </thead>\n",
       "  <tbody>\n",
       "    <tr>\n",
       "      <th>X1</th>\n",
       "      <td>0.007160</td>\n",
       "      <td>0.005201</td>\n",
       "      <td>-0.003035</td>\n",
       "      <td>0.017354</td>\n",
       "    </tr>\n",
       "    <tr>\n",
       "      <th>X2</th>\n",
       "      <td>0.712725</td>\n",
       "      <td>0.004876</td>\n",
       "      <td>0.703168</td>\n",
       "      <td>0.722281</td>\n",
       "    </tr>\n",
       "    <tr>\n",
       "      <th>X3</th>\n",
       "      <td>0.280116</td>\n",
       "      <td>0.004944</td>\n",
       "      <td>0.270426</td>\n",
       "      <td>0.289806</td>\n",
       "    </tr>\n",
       "  </tbody>\n",
       "</table>\n",
       "</div>"
      ],
      "text/plain": [
       "    Shapley effects  std. errors    CI_min    CI_max\n",
       "X1         0.007160     0.005201 -0.003035  0.017354\n",
       "X2         0.712725     0.004876  0.703168  0.722281\n",
       "X3         0.280116     0.004944  0.270426  0.289806"
      ]
     },
     "execution_count": 97,
     "metadata": {},
     "output_type": "execute_result"
    }
   ],
   "source": [
    "random_shapley"
   ]
  },
  {
   "cell_type": "markdown",
   "metadata": {},
   "source": [
    "And there we have the resultant Shapley effects, in line with the chosen method of estimation. \n",
    "\n",
    "#### When do I use which method?\n",
    "The `exact` method is good for use when the number of parameters is low, depending on the computational time it takes to estimate the model in question. If it is computationally inexpensive to estimate the model for which sensitivity analysis is required, then the `exact` method is always preferable, otherwise the `random` is recommended. A good way to proceed if one suspects that the computational time required to estimate the model is high, having a lot of parameters to conduct SA on is always to commence the exercise with a small number of parameters, e.g. 3, then get a benchmark of the Shapley effects using the `exact` method. Having done that, repeat the exercise using the `random` method on the same vector of parameters, calibrating the `n_perms` argument to the make sure that the results produced by the `random` method are the same as the `exact` one. Once this is complete, scale up the exercise using the `random` method, increasing the number of parameters to the desired parameter vector.\n",
    "\n",
    "Now we plot the ranking of the Shapley values below."
   ]
  },
  {
   "cell_type": "code",
   "execution_count": null,
   "metadata": {},
   "outputs": [],
   "source": [
    "# plot for exact permutations method"
   ]
  },
  {
   "cell_type": "code",
   "execution_count": 98,
   "metadata": {},
   "outputs": [],
   "source": [
    "# plot for random permutations method"
   ]
  }
 ],
 "metadata": {
  "kernelspec": {
   "display_name": "Python 3",
   "language": "python",
   "name": "python3"
  },
  "language_info": {
   "codemirror_mode": {
    "name": "ipython",
    "version": 3
   },
   "file_extension": ".py",
   "mimetype": "text/x-python",
   "name": "python",
   "nbconvert_exporter": "python",
   "pygments_lexer": "ipython3",
   "version": "3.7.7"
  }
 },
 "nbformat": 4,
 "nbformat_minor": 4
}
