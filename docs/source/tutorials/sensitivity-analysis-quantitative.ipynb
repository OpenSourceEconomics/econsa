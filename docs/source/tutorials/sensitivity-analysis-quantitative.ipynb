{
 "cells": [
  {
   "cell_type": "markdown",
   "metadata": {},
   "source": [
    "# Quantitative sensitivity analysis\n"
   ]
  },
  {
   "cell_type": "markdown",
   "metadata": {},
   "source": [
    "\n",
    "Here we show how to compute generalized Sobol indices on the **EOQ** model using the algorithm presented in Kucherenko et al. 2012. We import our model function from ``temfpy`` and use the Kucherenko indices function from ``econsa``. "
   ]
  },
  {
   "cell_type": "code",
   "execution_count": 1,
   "metadata": {},
   "outputs": [],
   "source": [
    "import matplotlib.pyplot as plt  # noqa: F401\n",
    "import numpy as np\n",
    "\n",
    "from temfpy.uncertainty_quantification import eoq_model\n",
    "\n",
    "# TODO: Reactivate once Tim's PR is ready.\n",
    "# from econsa.kucherenko import kucherenko_indices  # noqa: E265"
   ]
  },
  {
   "cell_type": "markdown",
   "metadata": {},
   "source": [
    "The function ``kucherenko_indices`` expects the input function to be broadcastable over rows, that is, a row represents the input arguments for one evaluation. For sampling around the mean parameters we specify a diagonal covariance matrix, where the variances depend on the scaling of the mean. Since the variances of the parameters are unknown prior to our analysis we choose values such that the probability of sampling negative values is negligible. We do this since the **EOQ** model is not defined for negative parameters and the normal sampling does not naturally account for bounds."
   ]
  },
  {
   "cell_type": "code",
   "execution_count": 2,
   "metadata": {},
   "outputs": [],
   "source": [
    "def eoq_model_transposed(x):\n",
    "    \"\"\"EOQ Model but with variables stored in columns.\"\"\"\n",
    "    return eoq_model(x.T)\n",
    "\n",
    "\n",
    "mean = np.array([1230, 0.0135, 2.15])\n",
    "cov = np.diag([1, 0.000001, 0.01])\n",
    "\n",
    "# indices = kucherenko_indices( # noqa: E265\n",
    "#    func=eoq_model_transposed, # noqa: E265\n",
    "#    sampling_mean=mean,  # noqa: E265\n",
    "#    sampling_cov=cov,  # noqa: E265\n",
    "#    n_draws=1_000_000,  # noqa: E265\n",
    "#    sampling_scheme=\"sobol\",  # noqa: E265\n",
    "# )  # noqa: E265"
   ]
  },
  {
   "cell_type": "markdown",
   "metadata": {},
   "source": [
    "Now we are ready to inspect the results."
   ]
  },
  {
   "cell_type": "code",
   "execution_count": 3,
   "metadata": {
    "nbsphinx": "hidden"
   },
   "outputs": [],
   "source": [
    "# sobol_first = indices.loc[(slice(None), \"first_order\"), \"value\"].values  # noqa: E265\n",
    "# sobol_total = indices.loc[(slice(None), \"total\"), \"value\"].values # noqa: E265\n",
    "\n",
    "# x = np.arange(3)  # the label locations  # noqa: E265\n",
    "# width = 0.35  # the width of the bars  # noqa: E265\n",
    "\n",
    "# fig, ax = plt.subplots()  # noqa: E265\n",
    "# rects1 = ax.bar(x - width / 2, sobol_first, width, label=\"First-order\")  # noqa: E265\n",
    "# rects2 = ax.bar(x + width / 2, sobol_total, width, label=\"Total\")  # noqa: E265\n",
    "\n",
    "# ax.set_ylim([0, 1])  # noqa: E265\n",
    "# ax.legend()  # noqa: E265\n",
    "\n",
    "# ax.set_xticks(x)  # noqa: E265\n",
    "# ax.set_xticklabels([\"$x_0$\", \"$x_1$\", \"$x_2$\"])  # noqa: E265\n",
    "# ax.legend();  # noqa: E265"
   ]
  },
  {
   "cell_type": "code",
   "execution_count": 4,
   "metadata": {},
   "outputs": [],
   "source": [
    "# fig  # noqa: E265"
   ]
  },
  {
   "cell_type": "markdown",
   "metadata": {},
   "source": [
    "## Shapley value"
   ]
  },
  {
   "cell_type": "code",
   "execution_count": 1,
   "metadata": {},
   "outputs": [
    {
     "name": "stdout",
     "output_type": "stream",
     "text": [
      "hello world\n"
     ]
    }
   ],
   "source": [
    "print(\"hello world\")"
   ]
  }
 ],
 "metadata": {
  "kernelspec": {
   "display_name": "Python 3",
   "language": "python",
   "name": "python3"
  },
  "language_info": {
   "codemirror_mode": {
    "name": "ipython",
    "version": 3
   },
   "file_extension": ".py",
   "mimetype": "text/x-python",
   "name": "python",
   "nbconvert_exporter": "python",
   "pygments_lexer": "ipython3",
   "version": "3.7.7"
  }
 },
 "nbformat": 4,
 "nbformat_minor": 4
}
