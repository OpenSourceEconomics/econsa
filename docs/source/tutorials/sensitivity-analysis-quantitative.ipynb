{
 "cells": [
  {
   "cell_type": "markdown",
   "metadata": {},
   "source": [
    "# Quantitative sensitivity analysis\n"
   ]
  },
  {
   "cell_type": "markdown",
   "metadata": {},
   "source": [
    "## Generalized Sobol Indices"
   ]
  },
  {
   "cell_type": "markdown",
   "metadata": {},
   "source": [
    "Here we show how to compute generalized Sobol indices on the **EOQ** model using the algorithm presented in Kucherenko et al. 2012. We import our model function from ``temfpy`` and use the Kucherenko indices function from ``econsa``. "
   ]
  },
  {
   "cell_type": "code",
   "execution_count": 1,
   "metadata": {},
   "outputs": [],
   "source": [
    "import matplotlib.pyplot as plt  # noqa: F401\n",
    "import numpy as np\n",
    "\n",
    "from temfpy.uncertainty_quantification import eoq_model\n",
    "\n",
    "# TODO: Reactivate once Tim's PR is ready.\n",
    "# from econsa.kucherenko import kucherenko_indices  # noqa: E265"
   ]
  },
  {
   "cell_type": "markdown",
   "metadata": {},
   "source": [
    "The function ``kucherenko_indices`` expects the input function to be broadcastable over rows, that is, a row represents the input arguments for one evaluation. For sampling around the mean parameters we specify a diagonal covariance matrix, where the variances depend on the scaling of the mean. Since the variances of the parameters are unknown prior to our analysis we choose values such that the probability of sampling negative values is negligible. We do this since the **EOQ** model is not defined for negative parameters and the normal sampling does not naturally account for bounds."
   ]
  },
  {
   "cell_type": "code",
   "execution_count": 2,
   "metadata": {},
   "outputs": [],
   "source": [
    "def eoq_model_transposed(x):\n",
    "    \"\"\"EOQ Model but with variables stored in columns.\"\"\"\n",
    "    return eoq_model(x.T)\n",
    "\n",
    "mean = np.array([1230, 0.0135, 2.15])\n",
    "cov = np.diag([1, 0.000001, 0.01])\n",
    "\n",
    "# indices = kucherenko_indices( # noqa: E265\n",
    "#    func=eoq_model_transposed, # noqa: E265\n",
    "#    sampling_mean=mean,  # noqa: E265\n",
    "#    sampling_cov=cov,  # noqa: E265\n",
    "#    n_draws=1_000_000,  # noqa: E265\n",
    "#    sampling_scheme=\"sobol\",  # noqa: E265\n",
    "# )  # noqa: E265"
   ]
  },
  {
   "cell_type": "markdown",
   "metadata": {},
   "source": [
    "Now we are ready to inspect the results."
   ]
  },
  {
   "cell_type": "code",
   "execution_count": 3,
   "metadata": {
    "nbsphinx": "hidden"
   },
   "outputs": [],
   "source": [
    "# sobol_first = indices.loc[(slice(None), \"first_order\"), \"value\"].values  # noqa: E265\n",
    "# sobol_total = indices.loc[(slice(None), \"total\"), \"value\"].values # noqa: E265\n",
    "\n",
    "# x = np.arange(3)  # the label locations  # noqa: E265\n",
    "# width = 0.35  # the width of the bars  # noqa: E265\n",
    "\n",
    "# fig, ax = plt.subplots()  # noqa: E265\n",
    "# rects1 = ax.bar(x - width / 2, sobol_first, width, label=\"First-order\")  # noqa: E265\n",
    "# rects2 = ax.bar(x + width / 2, sobol_total, width, label=\"Total\")  # noqa: E265\n",
    "\n",
    "# ax.set_ylim([0, 1])  # noqa: E265\n",
    "# ax.legend()  # noqa: E265\n",
    "\n",
    "# ax.set_xticks(x)  # noqa: E265\n",
    "# ax.set_xticklabels([\"$x_0$\", \"$x_1$\", \"$x_2$\"])  # noqa: E265\n",
    "# ax.legend();  # noqa: E265"
   ]
  },
  {
   "cell_type": "code",
   "execution_count": 4,
   "metadata": {},
   "outputs": [],
   "source": [
    "# fig  # noqa: E265"
   ]
  },
  {
   "source": [
    "## Shapley Effects"
   ],
   "cell_type": "markdown",
   "metadata": {}
  },
  {
   "cell_type": "markdown",
   "metadata": {},
   "source": [
    "`econsa` offers an implementation of the algorithm for the computation of Shapley effects as propsoed by Song et al. (2016).\n",
    "Here we show how to compute Shapley effects using the **EOQ** model as referenced above. We adjust the model in ``temfpy`` to accomodate an n-dimensional array for use in the context of the Shapley effects as implemented in ``econsa``. "
   ]
  },
  {
   "cell_type": "code",
   "execution_count": 1,
   "metadata": {},
   "outputs": [
    {
     "output_type": "error",
     "ename": "ModuleNotFoundError",
     "evalue": "No module named 'econsa'",
     "traceback": [
      "\u001b[1;31m---------------------------------------------------------------------------\u001b[0m",
      "\u001b[1;31mModuleNotFoundError\u001b[0m                       Traceback (most recent call last)",
      "\u001b[1;32m<ipython-input-1-4b5fe8609871>\u001b[0m in \u001b[0;36m<module>\u001b[1;34m\u001b[0m\n\u001b[0;32m      5\u001b[0m \u001b[1;32mimport\u001b[0m \u001b[0mseaborn\u001b[0m \u001b[1;32mas\u001b[0m \u001b[0msns\u001b[0m\u001b[1;33m\u001b[0m\u001b[1;33m\u001b[0m\u001b[0m\n\u001b[0;32m      6\u001b[0m \u001b[1;33m\u001b[0m\u001b[0m\n\u001b[1;32m----> 7\u001b[1;33m \u001b[1;32mfrom\u001b[0m \u001b[0meconsa\u001b[0m\u001b[1;33m.\u001b[0m\u001b[0mshapley\u001b[0m \u001b[1;32mimport\u001b[0m \u001b[0mget_shapley\u001b[0m\u001b[1;33m\u001b[0m\u001b[1;33m\u001b[0m\u001b[0m\n\u001b[0m\u001b[0;32m      8\u001b[0m \u001b[1;32mfrom\u001b[0m \u001b[0meconsa\u001b[0m\u001b[1;33m.\u001b[0m\u001b[0mshapley\u001b[0m \u001b[1;32mimport\u001b[0m \u001b[0m_r_condmvn\u001b[0m\u001b[1;33m\u001b[0m\u001b[1;33m\u001b[0m\u001b[0m\n",
      "\u001b[1;31mModuleNotFoundError\u001b[0m: No module named 'econsa'"
     ]
    }
   ],
   "source": [
    "# import necessary packages and functions\n",
    "import numpy as np\n",
    "import pandas as pd\n",
    "import matplotlib.pyplot as plt\n",
    "import seaborn as sns\n",
    "\n",
    "from econsa.shapley import get_shapley\n",
    "from econsa.shapley import _r_condmvn"
   ]
  },
  {
   "cell_type": "markdown",
   "metadata": {},
   "source": [
    "#### Sampling via `x_all` and `x_cond`, and the model of interest `model`\n",
    "First, we load all neccesary objects for the estimation of Shapley effects. The following objects are needed in the case of Gaussian model inputs.\n",
    "\n",
    "- The functions ``x_all`` and ``x_cond`` for (un-)conditional sampling. These functions depend on the distribution from which we are sampling from. For the purposes of this illustration, we will sample from a multivariate normal distribution, but the functions can be tailored to the user's specific needs.\n",
    "\n",
    "- A mean vector and covariance matrix of the model inputs. They are necessary for sampling conducted by the above two functions in the case of a Gaussian distribution.\n",
    "\n",
    "- The ``model`` the user wishes to perform SA on that maps model inputs to a model output. Here we consider the **EOQ** model."
   ]
  },
  {
   "cell_type": "code",
   "execution_count": 6,
   "metadata": {},
   "outputs": [],
   "source": [
    "# Mean vector and covariance matrix of the model inputs.\n",
    "n_inputs = 3\n",
    "mean = np.array([5.345, 0.0135, 2.15])\n",
    "cov = np.diag([1, 0.000001, 0.01])"
   ]
  },
  {
   "source": [
    "### Choosing `n_perms`\n",
    "Since we are conducting SA on a model with three inputs, the number of permutations on which the computation algorithm is based is $3! = 6$. For larger number of inputs it might be worthwhile to consider only a subset of all permutations. E.g. for a model with 10 inputs, there are 3,628,800 permutations. Considering all permutations could be computationally infeasible. Thus, ``get_shapley`` allows the user to set a specific number of permutations by the argument ``n_perms``."
   ],
   "cell_type": "markdown",
   "metadata": {}
  },
  {
   "source": [
    "### Choosing the number of Monte Carlo (MC) runs `n_output`, `n_outer`, and `n_inner`\n",
    "$N_V$, $N_O$, and $N_I$ denote the function arguments ``n_output``, ``n_outer``, and ``n_inner``, respectively. For the algorithm by Song et al. (2016) these three MC simulations are needed. The number of model evaluations required for the estimation of Shapley effects by ``get_shapley`` are given by\n",
    "\n",
    "$$N_V+m \\cdot N_I \\cdot N_O \\cdot (k-1),$$\n",
    "\n",
    "where $m$ denotes the number of permutations, ``n_perms``, and $k$ the number of inputs, ``n_inputs``.\n",
    "\n",
    "Song et al. (2016) show that choosing $N_I = 3$ is optimal. $N_V$ needs to be large enough to reliably estimate the total output variance, $V[Y]$. Given these choices, $N_O$ is chosen to consume the rest of the computational budget."
   ],
   "cell_type": "markdown",
   "metadata": {}
  },
  {
   "cell_type": "code",
   "execution_count": 7,
   "metadata": {},
   "outputs": [],
   "source": [
    "# Model for which senstivity analysis is being performed.\n",
    "def eoq_model_ndarray(x, r=0.1):\n",
    "    \"\"\"EOQ Model that accepts ndarray.\"\"\"\n",
    "    m = x[:, 0]\n",
    "    c = x[:, 1]\n",
    "    s = x[:, 2]    \n",
    "    return np.sqrt((24 * m * s) / (r * c))    "
   ]
  },
  {
   "cell_type": "code",
   "execution_count": 8,
   "metadata": {},
   "outputs": [],
   "source": [
    "# Function for unconditional sampling.\n",
    "def x_all(n):\n",
    "    distribution = cp.MvNormal(mean, cov)\n",
    "    return distribution.sample(n)\n",
    "\n",
    "# Function for conditional sampling in the case of Gaussian inputs.\n",
    "def x_cond(n, subset_j, subsetj_conditional, xjc):\n",
    "    if subsetj_conditional is None:\n",
    "        cov_int = np.array(cov)\n",
    "        cov_int = cov_int.take(subset_j, axis = 1)\n",
    "        cov_int = cov_int[subset_j]\n",
    "        distribution = cp.MvNormal(mean[subset_j], cov_int)\n",
    "        return distribution.sample(n)\n",
    "    else:\n",
    "        return _r_condmvn(n, mean=mean, cov=cov, dependent_ind=subset_j, given_ind=subsetj_conditional, x_given=xjc)"
   ]
  },
  {
   "cell_type": "code",
   "execution_count": 9,
   "metadata": {},
   "outputs": [],
   "source": [
    "# Estimate Shapley effects using the exact method.\n",
    "np.random.seed(1234)\n",
    "n_perms = None\n",
    "n_output = 10 ** 4\n",
    "n_outer = 10 ** 3\n",
    "n_inner = 3\n",
    "\n",
    "exact_shapley = get_shapley(eoq_model_ndarray, x_all, x_cond, n_perms, n_inputs, n_output, n_outer, n_inner)"
   ]
  },
  {
   "cell_type": "code",
   "execution_count": 10,
   "metadata": {},
   "outputs": [
    {
     "data": {
      "text/html": [
       "<div>\n",
       "<style scoped>\n",
       "    .dataframe tbody tr th:only-of-type {\n",
       "        vertical-align: middle;\n",
       "    }\n",
       "\n",
       "    .dataframe tbody tr th {\n",
       "        vertical-align: top;\n",
       "    }\n",
       "\n",
       "    .dataframe thead th {\n",
       "        text-align: right;\n",
       "    }\n",
       "</style>\n",
       "<table border=\"1\" class=\"dataframe\">\n",
       "  <thead>\n",
       "    <tr style=\"text-align: right;\">\n",
       "      <th></th>\n",
       "      <th>Shapley effects</th>\n",
       "      <th>std. errors</th>\n",
       "      <th>CI_min</th>\n",
       "      <th>CI_max</th>\n",
       "    </tr>\n",
       "  </thead>\n",
       "  <tbody>\n",
       "    <tr>\n",
       "      <th>X1</th>\n",
       "      <td>0.814539</td>\n",
       "      <td>0.003178</td>\n",
       "      <td>0.808311</td>\n",
       "      <td>0.820768</td>\n",
       "    </tr>\n",
       "    <tr>\n",
       "      <th>X2</th>\n",
       "      <td>0.130068</td>\n",
       "      <td>0.003394</td>\n",
       "      <td>0.123416</td>\n",
       "      <td>0.136721</td>\n",
       "    </tr>\n",
       "    <tr>\n",
       "      <th>X3</th>\n",
       "      <td>0.055392</td>\n",
       "      <td>0.004386</td>\n",
       "      <td>0.046797</td>\n",
       "      <td>0.063988</td>\n",
       "    </tr>\n",
       "  </tbody>\n",
       "</table>\n",
       "</div>"
      ],
      "text/plain": [
       "    Shapley effects  std. errors    CI_min    CI_max\n",
       "X1         0.814539     0.003178  0.808311  0.820768\n",
       "X2         0.130068     0.003394  0.123416  0.136721\n",
       "X3         0.055392     0.004386  0.046797  0.063988"
      ]
     },
     "execution_count": 10,
     "metadata": {},
     "output_type": "execute_result"
    }
   ],
   "source": [
    "exact_shapley"
   ]
  },
  {
   "cell_type": "code",
   "execution_count": 11,
   "metadata": {},
   "outputs": [],
   "source": [
    "# Estimate Shapley effects using the random method.\n",
    "np.random.seed(1234)\n",
    "n_perms = 5\n",
    "n_output = 10 ** 4\n",
    "n_outer = 10 ** 3\n",
    "n_inner = 3\n",
    "\n",
    "random_shapley = get_shapley(eoq_model_ndarray, x_all, x_cond, n_perms, n_inputs, n_output, n_outer, n_inner)"
   ]
  },
  {
   "cell_type": "code",
   "execution_count": 12,
   "metadata": {},
   "outputs": [
    {
     "data": {
      "text/html": [
       "<div>\n",
       "<style scoped>\n",
       "    .dataframe tbody tr th:only-of-type {\n",
       "        vertical-align: middle;\n",
       "    }\n",
       "\n",
       "    .dataframe tbody tr th {\n",
       "        vertical-align: top;\n",
       "    }\n",
       "\n",
       "    .dataframe thead th {\n",
       "        text-align: right;\n",
       "    }\n",
       "</style>\n",
       "<table border=\"1\" class=\"dataframe\">\n",
       "  <thead>\n",
       "    <tr style=\"text-align: right;\">\n",
       "      <th></th>\n",
       "      <th>Shapley effects</th>\n",
       "      <th>std. errors</th>\n",
       "      <th>CI_min</th>\n",
       "      <th>CI_max</th>\n",
       "    </tr>\n",
       "  </thead>\n",
       "  <tbody>\n",
       "    <tr>\n",
       "      <th>X1</th>\n",
       "      <td>0.814734</td>\n",
       "      <td>0.004659</td>\n",
       "      <td>0.805602</td>\n",
       "      <td>0.823866</td>\n",
       "    </tr>\n",
       "    <tr>\n",
       "      <th>X2</th>\n",
       "      <td>0.130517</td>\n",
       "      <td>0.004570</td>\n",
       "      <td>0.121561</td>\n",
       "      <td>0.139473</td>\n",
       "    </tr>\n",
       "    <tr>\n",
       "      <th>X3</th>\n",
       "      <td>0.054749</td>\n",
       "      <td>0.004739</td>\n",
       "      <td>0.045461</td>\n",
       "      <td>0.064038</td>\n",
       "    </tr>\n",
       "  </tbody>\n",
       "</table>\n",
       "</div>"
      ],
      "text/plain": [
       "    Shapley effects  std. errors    CI_min    CI_max\n",
       "X1         0.814734     0.004659  0.805602  0.823866\n",
       "X2         0.130517     0.004570  0.121561  0.139473\n",
       "X3         0.054749     0.004739  0.045461  0.064038"
      ]
     },
     "execution_count": 12,
     "metadata": {},
     "output_type": "execute_result"
    }
   ],
   "source": [
    "random_shapley"
   ]
  },
  {
   "cell_type": "markdown",
   "metadata": {},
   "source": [
    "Now we plot the ranking of the Shapley values below."
   ]
  },
  {
   "cell_type": "code",
   "execution_count": 13,
   "metadata": {
    "nbsphinx": "hidden"
   },
   "outputs": [],
   "source": [
    "# comparison of exact and random method ranking\n",
    "data = {'inputs':['X1', 'X2', 'X3'], 'exact_method':[0.814539, 0.130068, 0.055392],\n",
    "        'random_method': [0.814734, 0.130517, 0.054749]}\n",
    "\n",
    "# covert dict to dataframe for plot\n",
    "df = pd.DataFrame(data)\n",
    "\n",
    "# Set up a grid to plot survival probability against several variables\n",
    "def ranking(data):\n",
    "    g = sns.PairGrid(data.sort_values(\"exact_method\", ascending=False),\n",
    "                     x_vars=data.columns[-2:], y_vars=[\"inputs\"],\n",
    "                     height=4, aspect=.9)\n",
    "\n",
    "    # Draw a dot plot using the stripplot function\n",
    "    g.map(sns.stripplot, size=10, orient=\"h\", linewidth=1, edgecolor=\"w\")\n",
    "\n",
    "    # Use the same x axis limits on all columns and add better labels\n",
    "    g.set(xlim=(0, 0.9), xlabel=\"Shapley effect\", ylabel=\"\")\n",
    "\n",
    "    # Use semantically meaningful titles for the columns\n",
    "    titles = [\"exact method\", \"random method\"]\n",
    "\n",
    "    for ax, title in zip(g.axes.flat, titles):\n",
    "\n",
    "        # Set a different title for each axes\n",
    "        ax.set(title=title)\n",
    "\n",
    "        # Make the grid horizontal instead of vertical\n",
    "        ax.xaxis.grid(False)\n",
    "        ax.yaxis.grid(True)\n",
    "\n",
    "    sns.despine(left=True, bottom=True)"
   ]
  },
  {
   "cell_type": "code",
   "execution_count": 14,
   "metadata": {},
   "outputs": [
    {
     "data": {
      "image/png": "[encoded data removed]",
      "text/plain": [
       "<Figure size 518.4x288 with 2 Axes>"
      ]
     },
     "metadata": {
      "needs_background": "light"
     },
     "output_type": "display_data"
    }
   ],
   "source": [
    "# plot for exact and random permutations methods\n",
    "ranking(data = df)"
   ]
  },
  {
   "cell_type": "markdown",
   "metadata": {},
   "source": [
    "As noticed above, both methods produce the same ranking. Sometimes, it is neccesary to compare the parameter estimates with their parameter values. A typical application is hypothesis testing, that is, whether the parameter estimates are significant, and what the contribution of significant / insignificant estimates is to the output variance as reflected by their Shapley ranking.\n",
    "\n",
    "We can plot the parameter estimates together with their Shapley ranking as shown below:"
   ]
  },
  {
   "cell_type": "code",
   "execution_count": 15,
   "metadata": {
    "nbsphinx": "hidden"
   },
   "outputs": [],
   "source": [
    "# plot for exact permutations method\n",
    "def ranking_params_shapley(ordered_df):\n",
    "# The vertical plot is made using the hline function\n",
    "# I load the seaborn library only to benefit the nice looking feature\n",
    "    plt.hlines(y=my_range, xmin=ordered_df['params'], xmax=ordered_df['shapley_effect'], color='grey', alpha=0.4)\n",
    "    plt.scatter(ordered_df['params'], my_range, color='skyblue', alpha=1, label='params')\n",
    "    plt.scatter(ordered_df['shapley_effect'], my_range, color='green', alpha=0.4 , label='shapley_effect')\n",
    "    plt.legend()\n",
    "     \n",
    "    # Add title and axis names\n",
    "    plt.yticks(my_range, ordered_df['inputs'])\n",
    "    plt.title(\"Comparison of params and Shapley effects\", loc='left')\n",
    "    plt.xlabel('Value of the variables')\n",
    "    plt.ylabel('Group')\n",
    "    \n",
    "df = {'inputs':['X1', 'X2', 'X3'], 'params':[5.345, 0.0135, 2.15],\n",
    "        'shapley_effect': [0.814539, 0.130068, 0.055392]}\n",
    "\n",
    "df_exact = pd.DataFrame(df)\n",
    "ordered_df = df_exact.sort_values(by='params')\n",
    "my_range = range(1,len(df_exact.index)+1)\n"
   ]
  },
  {
   "cell_type": "code",
   "execution_count": 16,
   "metadata": {},
   "outputs": [
    {
     "data": {
      "image/png": "[encoded data removed]",
      "text/plain": [
       "<Figure size 432x288 with 1 Axes>"
      ]
     },
     "metadata": {
      "needs_background": "light"
     },
     "output_type": "display_data"
    }
   ],
   "source": [
    "# plot exact method comparison\n",
    "ranking_params_shapley(ordered_df)"
   ]
  },
  {
   "cell_type": "code",
   "execution_count": 17,
   "metadata": {
    "nbsphinx": "hidden"
   },
   "outputs": [],
   "source": [
    "# plot random method comparison\n",
    "df = {'inputs':['X1', 'X2', 'X3'], 'params':[5.345, 0.0135, 2.15],\n",
    "        'shapley_effect': [0.814734, 0.130517, 0.054749]}\n",
    "\n",
    "df_exact = pd.DataFrame(df)\n",
    "ordered_df = df_exact.sort_values(by='params')\n",
    "my_range = range(1,len(df_exact.index)+1)\n"
   ]
  },
  {
   "cell_type": "code",
   "execution_count": 18,
   "metadata": {},
   "outputs": [
    {
     "data": {
      "image/png": "[encoded data removed]",
      "text/plain": [
       "<Figure size 432x288 with 1 Axes>"
      ]
     },
     "metadata": {
      "needs_background": "light"
     },
     "output_type": "display_data"
    }
   ],
   "source": [
    "# plot random method comparison\n",
    "ranking_params_shapley(ordered_df)"
   ]
  },
  {
   "cell_type": "markdown",
   "metadata": {},
   "source": [
    "### When do we use randomly sampled permutations? Choosing `method`\n",
    "The `exact` method is good for use when the number of parameters is low, depending on the computational time it takes to estimate the model in question. If it is computationally inexpensive to estimate the model for which sensitivity analysis is required, then the `exact` method is always preferable, otherwise the `random` is recommended. A good way to proceed if one suspects that the computational time required to estimate the model is high, having a lot of parameters to conduct SA on is always to commence the exercise with a small number of parameters, e.g. 3, then get a benchmark of the Shapley effects using the `exact` method. Having done that, repeat the exercise using the `random` method on the same vector of parameters, calibrating the `n_perms` argument to make sure that the results produced by the `random` method are the same as the `exact` one. Once this is complete, scale up the exercise using the `random` method, increasing the number of parameters to the desired parameter vector."
   ]
  },
  {
   "cell_type": "markdown",
   "metadata": {},
   "source": [
    "## Quantile Based Sensitivity Measures"
   ]
  },
  {
   "cell_type": "markdown",
   "metadata": {},
   "source": [
    "We show how to compute global sensitivity measures based on quantiles of model's output."
   ]
  },
  {
   "cell_type": "code",
   "execution_count": 19,
   "metadata": {},
   "outputs": [],
   "source": [
    "# import necessary packages and functions\n",
    "import numpy as np\n",
    "import pandas as pd\n",
    "import chaospy as cp\n",
    "import matplotlib.pyplot as plt\n",
    "import seaborn as sns\n",
    "\n",
    "from temfpy.uncertainty_quantification import eoq_model\n",
    "from econsa.quantile_measures import mc_quantile_measures"
   ]
  },
  {
   "cell_type": "markdown",
   "metadata": {},
   "source": [
    "Firstly, we specify the parameters of the function. This function `mc_quantile_measures` is capable of computing numerical results of quantile-based sensitivity measures on various user-provided models. Here we take **EOQ model** from `temfpy` as an example, where the model function is adjusted to accommodate an n-dimensional array. For multivariate distributed samples, the `loc` and `scale` keywords are denoted by a mean vector and a covariance matrix respectively. Considering both efficient computation and good convergence, we set `n_draws` equal to 3000 and  $2^{13}$  for brute force and double loop reordering estimators correspondently. Note that the double loop reordering estimator is more efficient than the brute force estimator."
   ]
  },
  {
   "cell_type": "code",
   "execution_count": 20,
   "metadata": {},
   "outputs": [],
   "source": [
    "# model to perform quantile based sensitivity ananlysis\n",
    "def eoq_model_transposed(x):\n",
    "    \"\"\"EOQ Model but with variables stored in columns.\"\"\"\n",
    "    return eoq_model(x.T)"
   ]
  },
  {
   "cell_type": "code",
   "execution_count": 21,
   "metadata": {},
   "outputs": [],
   "source": [
    "# mean and covaraince matrix inputs\n",
    "mean = np.array([5.345, 0.0135, 2.15])\n",
    "cov = np.diag([1, 0.000001, 0.01])\n",
    "n_params = len(mean)\n",
    "dist_type = \"Normal\""
   ]
  },
  {
   "cell_type": "markdown",
   "metadata": {},
   "source": [
    "Then we are ready to calculate the numerical results using the algorithm presented in Kucherenko et al. 2019."
   ]
  },
  {
   "cell_type": "code",
   "execution_count": 22,
   "metadata": {},
   "outputs": [],
   "source": [
    "# compute quantile measures using brute force estimator\n",
    "bf_measures = mc_quantile_measures(\"brute force\", eoq_model_transposed, n_params, mean, cov, dist_type, 3000,)"
   ]
  },
  {
   "cell_type": "code",
   "execution_count": 23,
   "metadata": {},
   "outputs": [
    {
     "data": {
      "text/html": [
       "<div>\n",
       "<style scoped>\n",
       "    .dataframe tbody tr th:only-of-type {\n",
       "        vertical-align: middle;\n",
       "    }\n",
       "\n",
       "    .dataframe tbody tr th {\n",
       "        vertical-align: top;\n",
       "    }\n",
       "\n",
       "    .dataframe thead th {\n",
       "        text-align: right;\n",
       "    }\n",
       "</style>\n",
       "<table border=\"1\" class=\"dataframe\">\n",
       "  <thead>\n",
       "    <tr style=\"text-align: right;\">\n",
       "      <th></th>\n",
       "      <th></th>\n",
       "      <th>x_1</th>\n",
       "      <th>x_2</th>\n",
       "      <th>x_3</th>\n",
       "    </tr>\n",
       "    <tr>\n",
       "      <th>Measures</th>\n",
       "      <th>alpha</th>\n",
       "      <th></th>\n",
       "      <th></th>\n",
       "      <th></th>\n",
       "    </tr>\n",
       "  </thead>\n",
       "  <tbody>\n",
       "    <tr>\n",
       "      <th rowspan=\"5\" valign=\"top\">q_1</th>\n",
       "      <th>0.020</th>\n",
       "      <td>64.010462</td>\n",
       "      <td>10.595192</td>\n",
       "      <td>6.522037</td>\n",
       "    </tr>\n",
       "    <tr>\n",
       "      <th>0.052</th>\n",
       "      <td>53.565287</td>\n",
       "      <td>11.764802</td>\n",
       "      <td>7.126140</td>\n",
       "    </tr>\n",
       "    <tr>\n",
       "      <th>0.084</th>\n",
       "      <td>47.203635</td>\n",
       "      <td>11.849184</td>\n",
       "      <td>7.315335</td>\n",
       "    </tr>\n",
       "    <tr>\n",
       "      <th>0.116</th>\n",
       "      <td>43.584702</td>\n",
       "      <td>11.945758</td>\n",
       "      <td>7.390247</td>\n",
       "    </tr>\n",
       "    <tr>\n",
       "      <th>0.148</th>\n",
       "      <td>40.746792</td>\n",
       "      <td>12.074625</td>\n",
       "      <td>7.493912</td>\n",
       "    </tr>\n",
       "    <tr>\n",
       "      <th>...</th>\n",
       "      <th>...</th>\n",
       "      <td>...</td>\n",
       "      <td>...</td>\n",
       "      <td>...</td>\n",
       "    </tr>\n",
       "    <tr>\n",
       "      <th rowspan=\"5\" valign=\"top\">Q_2</th>\n",
       "      <th>0.852</th>\n",
       "      <td>0.851180</td>\n",
       "      <td>0.108055</td>\n",
       "      <td>0.040765</td>\n",
       "    </tr>\n",
       "    <tr>\n",
       "      <th>0.884</th>\n",
       "      <td>0.857788</td>\n",
       "      <td>0.102897</td>\n",
       "      <td>0.039315</td>\n",
       "    </tr>\n",
       "    <tr>\n",
       "      <th>0.916</th>\n",
       "      <td>0.863797</td>\n",
       "      <td>0.099314</td>\n",
       "      <td>0.036889</td>\n",
       "    </tr>\n",
       "    <tr>\n",
       "      <th>0.948</th>\n",
       "      <td>0.871352</td>\n",
       "      <td>0.093822</td>\n",
       "      <td>0.034825</td>\n",
       "    </tr>\n",
       "    <tr>\n",
       "      <th>0.980</th>\n",
       "      <td>0.880632</td>\n",
       "      <td>0.089250</td>\n",
       "      <td>0.030119</td>\n",
       "    </tr>\n",
       "  </tbody>\n",
       "</table>\n",
       "<p>124 rows × 3 columns</p>\n",
       "</div>"
      ],
      "text/plain": [
       "                      x_1        x_2       x_3\n",
       "Measures alpha                                \n",
       "q_1      0.020  64.010462  10.595192  6.522037\n",
       "         0.052  53.565287  11.764802  7.126140\n",
       "         0.084  47.203635  11.849184  7.315335\n",
       "         0.116  43.584702  11.945758  7.390247\n",
       "         0.148  40.746792  12.074625  7.493912\n",
       "...                   ...        ...       ...\n",
       "Q_2      0.852   0.851180   0.108055  0.040765\n",
       "         0.884   0.857788   0.102897  0.039315\n",
       "         0.916   0.863797   0.099314  0.036889\n",
       "         0.948   0.871352   0.093822  0.034825\n",
       "         0.980   0.880632   0.089250  0.030119\n",
       "\n",
       "[124 rows x 3 columns]"
      ]
     },
     "execution_count": 23,
     "metadata": {},
     "output_type": "execute_result"
    }
   ],
   "source": [
    "bf_measures"
   ]
  },
  {
   "cell_type": "code",
   "execution_count": 24,
   "metadata": {},
   "outputs": [],
   "source": [
    "# compute quantile measures using double loop reordering estimator\n",
    "dlr_measures = mc_quantile_measures(\"DLR\", eoq_model_transposed, n_params, mean, cov, dist_type, 2 ** 13,)"
   ]
  },
  {
   "cell_type": "code",
   "execution_count": 25,
   "metadata": {},
   "outputs": [
    {
     "data": {
      "text/html": [
       "<div>\n",
       "<style scoped>\n",
       "    .dataframe tbody tr th:only-of-type {\n",
       "        vertical-align: middle;\n",
       "    }\n",
       "\n",
       "    .dataframe tbody tr th {\n",
       "        vertical-align: top;\n",
       "    }\n",
       "\n",
       "    .dataframe thead th {\n",
       "        text-align: right;\n",
       "    }\n",
       "</style>\n",
       "<table border=\"1\" class=\"dataframe\">\n",
       "  <thead>\n",
       "    <tr style=\"text-align: right;\">\n",
       "      <th></th>\n",
       "      <th></th>\n",
       "      <th>x_1</th>\n",
       "      <th>x_2</th>\n",
       "      <th>x_3</th>\n",
       "    </tr>\n",
       "    <tr>\n",
       "      <th>Measures</th>\n",
       "      <th>alpha</th>\n",
       "      <th></th>\n",
       "      <th></th>\n",
       "      <th></th>\n",
       "    </tr>\n",
       "  </thead>\n",
       "  <tbody>\n",
       "    <tr>\n",
       "      <th rowspan=\"5\" valign=\"top\">q_1</th>\n",
       "      <th>0.020</th>\n",
       "      <td>64.179809</td>\n",
       "      <td>10.414823</td>\n",
       "      <td>6.285291</td>\n",
       "    </tr>\n",
       "    <tr>\n",
       "      <th>0.052</th>\n",
       "      <td>52.267399</td>\n",
       "      <td>11.037341</td>\n",
       "      <td>6.778817</td>\n",
       "    </tr>\n",
       "    <tr>\n",
       "      <th>0.084</th>\n",
       "      <td>46.311146</td>\n",
       "      <td>11.211302</td>\n",
       "      <td>6.917412</td>\n",
       "    </tr>\n",
       "    <tr>\n",
       "      <th>0.116</th>\n",
       "      <td>42.563103</td>\n",
       "      <td>11.407816</td>\n",
       "      <td>7.013578</td>\n",
       "    </tr>\n",
       "    <tr>\n",
       "      <th>0.148</th>\n",
       "      <td>40.321098</td>\n",
       "      <td>11.638289</td>\n",
       "      <td>7.183969</td>\n",
       "    </tr>\n",
       "    <tr>\n",
       "      <th>...</th>\n",
       "      <th>...</th>\n",
       "      <td>...</td>\n",
       "      <td>...</td>\n",
       "      <td>...</td>\n",
       "    </tr>\n",
       "    <tr>\n",
       "      <th rowspan=\"5\" valign=\"top\">Q_2</th>\n",
       "      <th>0.852</th>\n",
       "      <td>0.865417</td>\n",
       "      <td>0.097312</td>\n",
       "      <td>0.037271</td>\n",
       "    </tr>\n",
       "    <tr>\n",
       "      <th>0.884</th>\n",
       "      <td>0.871006</td>\n",
       "      <td>0.093422</td>\n",
       "      <td>0.035572</td>\n",
       "    </tr>\n",
       "    <tr>\n",
       "      <th>0.916</th>\n",
       "      <td>0.876810</td>\n",
       "      <td>0.089801</td>\n",
       "      <td>0.033388</td>\n",
       "    </tr>\n",
       "    <tr>\n",
       "      <th>0.948</th>\n",
       "      <td>0.883911</td>\n",
       "      <td>0.084970</td>\n",
       "      <td>0.031119</td>\n",
       "    </tr>\n",
       "    <tr>\n",
       "      <th>0.980</th>\n",
       "      <td>0.890728</td>\n",
       "      <td>0.081605</td>\n",
       "      <td>0.027667</td>\n",
       "    </tr>\n",
       "  </tbody>\n",
       "</table>\n",
       "<p>124 rows × 3 columns</p>\n",
       "</div>"
      ],
      "text/plain": [
       "                      x_1        x_2       x_3\n",
       "Measures alpha                                \n",
       "q_1      0.020  64.179809  10.414823  6.285291\n",
       "         0.052  52.267399  11.037341  6.778817\n",
       "         0.084  46.311146  11.211302  6.917412\n",
       "         0.116  42.563103  11.407816  7.013578\n",
       "         0.148  40.321098  11.638289  7.183969\n",
       "...                   ...        ...       ...\n",
       "Q_2      0.852   0.865417   0.097312  0.037271\n",
       "         0.884   0.871006   0.093422  0.035572\n",
       "         0.916   0.876810   0.089801  0.033388\n",
       "         0.948   0.883911   0.084970  0.031119\n",
       "         0.980   0.890728   0.081605  0.027667\n",
       "\n",
       "[124 rows x 3 columns]"
      ]
     },
     "execution_count": 25,
     "metadata": {},
     "output_type": "execute_result"
    }
   ],
   "source": [
    "dlr_measures"
   ]
  },
  {
   "cell_type": "markdown",
   "metadata": {},
   "source": [
    "Now we are able to visualize the results."
   ]
  },
  {
   "cell_type": "code",
   "execution_count": 26,
   "metadata": {
    "nbsphinx": "hidden"
   },
   "outputs": [],
   "source": [
    "def plot_quantile_measures(df_measures):\n",
    "    \n",
    "    sns.set_style(\"whitegrid\")\n",
    "    sns.set_context(\"notebook\", font_scale=1.5)\n",
    "\n",
    "    fig, ax = plt.subplots(figsize=(8,6))\n",
    "    \n",
    "    n_params = len(df_measures.columns)\n",
    "\n",
    "    style_1 = [f'C{i}s--' for i in range(n_params)]\n",
    "    style_2 = [f'C{i}o--' for i in range(n_params)]\n",
    "\n",
    "    for q, s in zip([\"Q_1\", \"Q_2\"], [style_1, style_2]):\n",
    "        df_measures.loc[q].plot(ax=ax, style=s, markerfacecolor='none')\n",
    "\n",
    "    ax.set_title(r\"Values of $Q_i^{(1)}$ and $Q_i^{(2)}$ versus $\\alpha$\")\n",
    "    ax.set_xticks(np.arange(0, 1.1, 0.1))\n",
    "    ax.set_ylabel(\"Measures\")\n",
    "    ax.set_xlabel(r\"$\\alpha$\")\n",
    "\n",
    "    labels = [f'$Q_{i+1}^{{({p})}}$' for p in [1,2] for i in range(n_params)]    \n",
    "    ax.legend(labels,loc='center left', bbox_to_anchor=(1, 0.5), fontsize=15)"
   ]
  },
  {
   "cell_type": "code",
   "execution_count": 27,
   "metadata": {},
   "outputs": [
    {
     "data": {
      "image/png": "[encoded data removed]",
      "text/plain": [
       "<Figure size 576x432 with 1 Axes>"
      ]
     },
     "metadata": {},
     "output_type": "display_data"
    }
   ],
   "source": [
    "# plot brute force estimates\n",
    "plot_quantile_measures(bf_measures)"
   ]
  },
  {
   "cell_type": "code",
   "execution_count": 28,
   "metadata": {},
   "outputs": [
    {
     "data": {
      "image/png": "[encoded data removed]",
      "text/plain": [
       "<Figure size 576x432 with 1 Axes>"
      ]
     },
     "metadata": {},
     "output_type": "display_data"
    }
   ],
   "source": [
    "# plot double loop reordering estimates\n",
    "plot_quantile_measures(dlr_measures)"
   ]
  },
  {
   "cell_type": "markdown",
   "metadata": {},
   "source": [
    "The brute force estimator and DLR estimator generate the same ranking of variables for all quantiles: $x_1, x_2, x_3$(in descending order). At $\\alpha=0.5$, measures $Q_i$ reachs their minimun:$i=1$ and maximum:$i=2,3$."
   ]
  }
 ],
 "metadata": {
  "kernelspec": {
   "name": "python3",
   "display_name": "Python 3.7.10 64-bit ('econsa': conda)"
  },
  "language_info": {
   "codemirror_mode": {
    "name": "ipython",
    "version": 3
   },
   "file_extension": ".py",
   "mimetype": "text/x-python",
   "name": "python",
   "nbconvert_exporter": "python",
   "pygments_lexer": "ipython3",
   "version": "3.7.10"
  },
  "interpreter": {
   "hash": "27f73fc847b24c08ac9b7a18ebc71c0304d052de3761b7e57e982a062414d1b0"
  }
 },
 "nbformat": 4,
 "nbformat_minor": 4
}
