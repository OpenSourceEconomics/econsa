{
 "cells": [
  {
   "cell_type": "markdown",
   "metadata": {},
   "source": [
    "# Qualitative sensitivity analysis"
   ]
  },
  {
   "cell_type": "markdown",
   "metadata": {},
   "source": [
    "We showcase the use of `econsa` for qualitative sensitivity analysis."
   ]
  },
  {
   "cell_type": "code",
   "execution_count": 2,
   "metadata": {},
   "outputs": [],
   "source": [
    "# from temfpy.uncertainty_quantification import simple_linear_function,\n",
    "from morris import elementary_effects  # noqa: F401\n",
    "import numpy as np\n",
    "import pandas as pd"
   ]
  },
  {
   "source": [
    "The module `morris` implements the extended Morris method as proposed by Ge & Menendez (2017). They extend the Morris method in the sense, that their algorithm takes dependency among inputs into account.\n",
    "\n",
    "For illustration purposes consider the Morris method for independent inputs only.\n",
    "\n",
    "Let $x = \\{x_1, \\dots, x_k\\}$ denote a sample of values assigned to the $X_i$'s. $f(x)$ is then the model output obtained for the values in $x$. Now consider a second sample $x_{\\Delta_i} = \\{x_1, \\dots, x_{i-1}, x_i + \\Delta, x_{i+1}, \\dots, x_k\\}$ that is identical to $x$ up to input $x_i$ which is varied by $\\Delta$. Then, one elementary effect for input $i$ is derived by\n",
    "\n",
    "$$EE_i = \\frac{f(x_{\\Delta_i}) - f(x)}{\\Delta}.$$\n",
    "\n",
    "\n",
    "The above elementary effect is computed $N$ times, each for a varying $\\Delta$. The actual sensitivity measures resulting from the Morris method are the mean, denoted by $\\mu^\\ast_i$, and the standard deviation, denoted by $\\sigma_i$, taken from the $N$ elementary effects per input $i$.\n",
    "\n",
    "$$\\mu_i^\\ast = \\frac{1}{N} \\sum_{r=1}^N \\vert EE_{i, r} \\vert$$\n",
    "\n",
    "$$\\sigma_i = \\sqrt{\\frac{1}{N-1} \\sum_{r=1}^N (EE_{i, r} - \\mu_i)^2}$$\n",
    "\n",
    "The derivation of the extended Morris indices is more complicated and we get *four* sensitivity indices indstead of only two: *independent* and *full* Morris indices, $(\\mu_i^{\\ast,\\ ind}, \\mu_i^{\\ast,\\ full}, \\sigma_i^{ind}, \\sigma_i^{full})$, which are computed analogously to the Morris indices under input independence, but are based on different elementary effects:\n",
    "\n",
    "- $EE_i^{ind}$ denotes *independent* elementary effects for input $i$, effects that exclude the contributions attributable to the dependence between input $X_i$ and $X_j$ for $i \\neq j$, and\n",
    "\n",
    "- $EE_i^{full}$ denotes *full* elementary effects for input $i$, that include the effects due to correlation with other inputs."
   ],
   "cell_type": "markdown",
   "metadata": {}
  },
  {
   "source": [
    "For applying the Morris method, we need to specify the following arguments:\n",
    "\n",
    "- `func`: The model for which we want to calculate the Morris indices. Note how the data needs to be accessed within the function. See below example.\n",
    "\n",
    "- `params`: The mean values of the inputs.\n",
    "\n",
    "- `cov`: The variance-covariance matrix of the inputs.\n",
    "\n",
    "- `n_draws`: Number of draws. The total computational cost of the extended Morris method amounts to $3kN$, where $k$ denotes the number of inputs and $N$ the number of draws (`n_draws`).\n",
    "\n",
    "Note that the current implementation of the Morris method in `econsa` does allow for Gaussian (i.e. normally distributed) inputs only."
   ],
   "cell_type": "markdown",
   "metadata": {}
  },
  {
   "source": [
    "Specify the input names in the data frames `params` and `cov` to display the input names in the output of `elementary_effects`."
   ],
   "cell_type": "markdown",
   "metadata": {}
  },
  {
   "cell_type": "code",
   "execution_count": 3,
   "metadata": {},
   "outputs": [],
   "source": [
    "params = pd.DataFrame(data=np.array([5.345, 0.0135, 2.15]), columns=['value'], index=['m', 'c', 's'])\n",
    "cov = pd.DataFrame(data=np.diag([1, 0.000001, 0.01]), index=['m', 'c', 's'])"
   ]
  },
  {
   "source": [
    "The model implemented by `func` needs to access the inputs in the following way, if the input names are specified in `params` and `cov`:\n",
    "\n",
    "`m = x[\"value\"]['m']`\n",
    "\n",
    "`c = x[\"value\"]['c']`\n",
    "\n",
    "`s = x[\"value\"]['s']`.\n",
    "\n",
    "Alternatively we can access them via the index as well:\n",
    "\n",
    "`m = x[\"value\"][0]`\n",
    "\n",
    "`c = x[\"value\"][1]`\n",
    "\n",
    "`s = x[\"value\"][2]`."
   ],
   "cell_type": "markdown",
   "metadata": {}
  },
  {
   "cell_type": "code",
   "execution_count": 7,
   "metadata": {},
   "outputs": [],
   "source": [
    "def eoq_model_morris(x, r=0.1):\n",
    "    \"\"\"EOQ Model that accesses data as expected by elementary_effects.\"\"\"\n",
    "    m = x[\"value\"]['m']\n",
    "    c = x[\"value\"]['c']\n",
    "    s = x[\"value\"]['s']\n",
    "\n",
    "    # Need to ensure that there exists a solution (i.e. no NaNs).\n",
    "    if m < 0:\n",
    "        m = 0\n",
    "    elif c < 0:\n",
    "        raise ValueError\n",
    "    elif s < 0:\n",
    "        s = 0\n",
    "    else:\n",
    "        pass\n",
    "\n",
    "    return np.sqrt((24 * m * s) / (r * c))"
   ]
  },
  {
   "cell_type": "code",
   "execution_count": 8,
   "metadata": {},
   "outputs": [],
   "source": [
    "n_draws = 100\n",
    "results = elementary_effects(eoq_model_morris, params, cov, n_draws)"
   ]
  },
  {
   "source": [
    "The output of `elementary_effects` is a dictionary containing the four sensitivity indices derived from the `n_draws` elementary effects: $(\\mu_i^{\\ast,\\ ind}, \\mu_i^{\\ast,\\ full}, \\sigma_i^{ind}, \\sigma_i^{full})$."
   ],
   "cell_type": "markdown",
   "metadata": {}
  },
  {
   "cell_type": "code",
   "execution_count": null,
   "metadata": {},
   "outputs": [],
   "source": []
  },
  {
   "cell_type": "code",
   "execution_count": 9,
   "metadata": {},
   "outputs": [
    {
     "output_type": "execute_result",
     "data": {
      "text/plain": [
       "{'mu_ind': m    152.932694\n",
       " c     57.953365\n",
       " s     33.104776\n",
       " dtype: float64,\n",
       " 'mu_corr': m    2369.122666\n",
       " c    3270.066313\n",
       " s    2888.326540\n",
       " dtype: float64,\n",
       " 'sigma_ind': m    54.844400\n",
       " c    17.314969\n",
       " s     7.963128\n",
       " dtype: float64,\n",
       " 'sigma_corr': m    2523.492389\n",
       " c    8210.375153\n",
       " s    3814.720109\n",
       " dtype: float64,\n",
       " 'mu_ind_cum':               m          c          s\n",
       " 1           NaN        NaN        NaN\n",
       " 2    124.901013  51.672836  26.198816\n",
       " 3    125.806619  48.973670  29.796229\n",
       " 4    123.068657  49.028250  31.225234\n",
       " 5    119.660578  52.598716  30.243689\n",
       " ..          ...        ...        ...\n",
       " 96   153.797320  57.495222  32.879575\n",
       " 97   153.343157  57.987376  32.921207\n",
       " 98   153.497392  57.815867  32.967114\n",
       " 99   153.240693  58.075774  32.950881\n",
       " 100  152.932694  57.953365  33.104776\n",
       " \n",
       " [100 rows x 3 columns],\n",
       " 'mu_corr_cum':                m            c            s\n",
       " 1            NaN          NaN          NaN\n",
       " 2    1975.552648  2563.129032  1133.631188\n",
       " 3    1533.898849  6452.939758   945.285452\n",
       " 4    1440.612603  5294.116835   848.783171\n",
       " 5    1389.763807  4921.975398  1365.637198\n",
       " ..           ...          ...          ...\n",
       " 96   2227.956626  3318.405842  2804.693741\n",
       " 97   2359.806387  3301.289306  2929.628106\n",
       " 98   2371.842430  3285.660530  2923.811075\n",
       " 99   2379.478173  3284.065787  2904.808879\n",
       " 100  2369.122666  3270.066313  2888.326540\n",
       " \n",
       " [100 rows x 3 columns],\n",
       " 'sigma_ind_cum':              m          c         s\n",
       " 1          NaN        NaN       NaN\n",
       " 2    27.984098   7.350190  1.532628\n",
       " 3    19.849817   6.990647  6.324445\n",
       " 4    17.107383   5.708883  5.902031\n",
       " 5    16.660491   9.390668  5.562610\n",
       " ..         ...        ...       ...\n",
       " 96   55.919632  16.746390  7.992065\n",
       " 97   55.807167  17.349791  7.960897\n",
       " 98   55.539747  17.343435  7.932783\n",
       " 99   55.314654  17.447436  7.893858\n",
       " 100  55.120696  17.402199  8.003244\n",
       " \n",
       " [100 rows x 3 columns],\n",
       " 'sigma_corr_cum':                m            c            s\n",
       " 1            NaN          NaN          NaN\n",
       " 2    2117.809738  1254.953623    23.291124\n",
       " 3    1681.586535  6795.538003   326.639844\n",
       " 4    1385.627949  6013.127869   329.210904\n",
       " 5    1205.363684  5273.587614  1190.367712\n",
       " ..           ...          ...          ...\n",
       " 96   2228.792016  8419.282988  3703.976961\n",
       " 97   2569.445814  8377.014163  3884.658056\n",
       " 98   2558.942418  8335.157861  3865.011184\n",
       " 99   2546.986499  8292.537684  3849.886618\n",
       " 100  2536.205277  8251.737506  3833.937964\n",
       " \n",
       " [100 rows x 3 columns]}"
      ]
     },
     "metadata": {},
     "execution_count": 9
    }
   ],
   "source": [
    "results"
   ]
  },
  {
   "cell_type": "code",
   "execution_count": null,
   "metadata": {},
   "outputs": [],
   "source": []
  }
 ],
 "metadata": {
  "kernelspec": {
   "name": "python3",
   "display_name": "Python 3.7.10 64-bit ('econsa': conda)"
  },
  "language_info": {
   "codemirror_mode": {
    "name": "ipython",
    "version": 3
   },
   "file_extension": ".py",
   "mimetype": "text/x-python",
   "name": "python",
   "nbconvert_exporter": "python",
   "pygments_lexer": "ipython3",
   "version": "3.7.10"
  },
  "interpreter": {
   "hash": "27f73fc847b24c08ac9b7a18ebc71c0304d052de3761b7e57e982a062414d1b0"
  }
 },
 "nbformat": 4,
 "nbformat_minor": 4
}
