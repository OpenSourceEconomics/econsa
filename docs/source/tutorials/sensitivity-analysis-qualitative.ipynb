{
 "cells": [
  {
   "cell_type": "markdown",
   "metadata": {},
   "source": [
    "# Qualitative sensitivity analysis"
   ]
  },
  {
   "cell_type": "markdown",
   "metadata": {},
   "source": [
    "We showcase the use of `econsa` for qualitative sensitivity analysis."
   ]
  },
  {
   "cell_type": "code",
   "execution_count": 7,
   "metadata": {},
   "outputs": [],
   "source": [
    "# from temfpy.uncertainty_quantification import simple_linear_function,\n",
    "from econsa.morris import elementary_effects  # noqa: F401\n",
    "import numpy as np\n",
    "\n",
    "# This is an example where we extracted the sampling from the\n",
    "# function to compute the elementary effects.\n",
    "input_parameters = np.random.normal(size=(100, 4))\n",
    "n_draws, cov = 100, np.identity(3)\n",
    "\n",
    "# TODO: This requires some more work to set up.\n",
    "# rslt = elementary_effects(simple_linear_function, input_parameters, cov, n_draws)"
   ]
  }
 ],
 "metadata": {
  "kernelspec": {
   "display_name": "Python 3",
   "language": "python",
   "name": "python3"
  },
  "language_info": {
   "codemirror_mode": {
    "name": "ipython",
    "version": 3
   },
   "file_extension": ".py",
   "mimetype": "text/x-python",
   "name": "python",
   "nbconvert_exporter": "python",
   "pygments_lexer": "ipython3",
   "version": "3.7.7"
  }
 },
 "nbformat": 4,
 "nbformat_minor": 4
}
