{
 "cells": [
  {
   "cell_type": "code",
   "execution_count": 1,
   "metadata": {},
   "outputs": [],
   "source": [
    "import numpy as np\n",
    "import pandas as pd\n",
    "\n",
    "import matplotlib.pyplot as plt\n",
    "%matplotlib inline\n",
    "\n",
    "import seaborn as sns"
   ]
  },
  {
   "cell_type": "code",
   "execution_count": 2,
   "metadata": {},
   "outputs": [],
   "source": [
    "from econsa.aleeciu import kucherenko_indices\n",
    "from econsa.aleeciu import build_cov_mu"
   ]
  },
  {
   "cell_type": "code",
   "execution_count": 3,
   "metadata": {},
   "outputs": [],
   "source": [
    "def test_fun1(args):\n",
    "    return np.sum(args, axis=1)\n",
    "\n",
    "def test_fun2(args):\n",
    "    x1,x2,x3,x4 = np.hsplit(args,4)\n",
    "    return x1*x3+x2*x4"
   ]
  },
  {
   "cell_type": "code",
   "execution_count": 4,
   "metadata": {},
   "outputs": [
    {
     "name": "stdout",
     "output_type": "stream",
     "text": [
      "rho = 0.0\n",
      "           S        ST\n",
      "X1  0.160204  0.166698\n",
      "X2  0.160204  0.166698\n",
      "X3  0.666616  0.664613\n",
      "\n",
      "\n",
      "rho = 0.5\n",
      "           S         ST\n",
      "X1  0.119189   0.124935\n",
      "X2  0.498518  0.0937188\n",
      "X3  0.781664   0.374027\n",
      "\n",
      "\n",
      "rho = -0.5\n",
      "            S        ST\n",
      "X1   0.246611  0.250143\n",
      "X2 -0.0112764  0.187286\n",
      "X3   0.561858  0.746157\n",
      "\n",
      "\n",
      "rho = 0.8\n",
      "           S         ST\n",
      "X1   0.10512   0.108544\n",
      "X2  0.735123  0.0390325\n",
      "X3  0.852551   0.155925\n",
      "\n",
      "\n",
      "rho = -0.8\n",
      "           S        ST\n",
      "X1  0.357782  0.357523\n",
      "X2   0.11747  0.128345\n",
      "X3  0.513729  0.510899\n",
      "\n",
      "\n"
     ]
    }
   ],
   "source": [
    "rho_s = [0., 0.5, -0.5, 0.8, -0.8]\n",
    "     \n",
    "mu = np.array([[0.0], [0.0], [0.0]])\n",
    "problem = {'num_vars': 3, 'dist': np.array(3*['norm']), 'prms': np.array([[0., 1.], \n",
    "                                                                          [0., 1.], \n",
    "                                                                          [0., 4.]])}\n",
    "N = 1500\n",
    "\n",
    "for rho in rho_s:\n",
    "    results = pd.DataFrame(columns = ['S', 'ST'], \n",
    "                           index = ['X{}'.format(i) for i in range(1,problem['num_vars']+1)])\n",
    "\n",
    "    df_cov = pd.DataFrame([[1.,0.,0.],\n",
    "                           [0.,1.,rho*2.],\n",
    "                           [0.,rho*2.,4.]])\n",
    "\n",
    "    print('rho = {}'.format(rho))\n",
    "    \n",
    "    # X1\n",
    "    factors = [0]\n",
    "    \n",
    "    cov_, mu_ = build_cov_mu(df_cov, mu, factors)\n",
    "    \n",
    "    a, b = kucherenko_indices(test_fun1, cov_, mu_, problem, N)\n",
    "    \n",
    "    results.loc['X1','S'] = a; results.loc['X1','ST'] = b\n",
    "    \n",
    "    # X2\n",
    "    factors = [1]\n",
    "    \n",
    "    cov_, mu_ = build_cov_mu(df_cov, mu, factors)\n",
    "    \n",
    "    a, b = kucherenko_indices(test_fun1, cov_, mu_, problem, N)\n",
    "    \n",
    "    results.loc['X2','S'] = a; results.loc['X2','ST'] = b\n",
    "    \n",
    "    # X3\n",
    "    factors = [2]\n",
    "\n",
    "    cov_, mu_ = build_cov_mu(df_cov, mu, factors)\n",
    "    \n",
    "    a, b = kucherenko_indices(test_fun1, cov_, mu_, problem, N)\n",
    "    \n",
    "    results.loc['X3','S'] = a; results.loc['X3','ST'] = b\n",
    "    \n",
    "    print(results)\n",
    "    print('\\n')"
   ]
  },
  {
   "cell_type": "code",
   "execution_count": 5,
   "metadata": {},
   "outputs": [],
   "source": [
    "import econsa.kucherenko as kh   "
   ]
  },
  {
   "cell_type": "code",
   "execution_count": 6,
   "metadata": {},
   "outputs": [],
   "source": [
    "rho = 0.0\n",
    "\n",
    "cov = np.array([\n",
    "    [1.,0.,0.],\n",
    "    [0.,1.,rho*2.],\n",
    "    [0.,rho*2.,4.]\n",
    "])"
   ]
  },
  {
   "cell_type": "code",
   "execution_count": 7,
   "metadata": {},
   "outputs": [],
   "source": [
    "indices = kh.kucherenko_indices(test_fun1, mu.reshape(-1), cov)"
   ]
  },
  {
   "cell_type": "markdown",
   "metadata": {},
   "source": [
    "## Compare kucherenko samples"
   ]
  },
  {
   "cell_type": "code",
   "execution_count": 4,
   "metadata": {},
   "outputs": [],
   "source": [
    "from econsa.aleeciu import kucherenko_sampling\n",
    "import econsa.kucherenko as kh"
   ]
  },
  {
   "cell_type": "code",
   "execution_count": 34,
   "metadata": {},
   "outputs": [],
   "source": [
    "mu = np.array([[0.0], [0.0], [0.0]])\n",
    "problem = {'num_vars': 3, 'dist': np.array(3*['norm']), 'prms': np.array([[0., 1.], \n",
    "                                                                          [0., 1.], \n",
    "                                                                          [0., 4.]])}\n",
    "N = 10000\n",
    "\n",
    "rho = 0.2\n",
    "factors = [0]\n",
    "df_cov = pd.DataFrame([[1.,0.,0.],\n",
    "                       [0.,1.,rho*2.],\n",
    "                       [0.,rho*2.,4.]])\n",
    "\n",
    "    \n",
    "cov, mu = build_cov_mu(df_cov, mu, factors)"
   ]
  },
  {
   "cell_type": "code",
   "execution_count": 35,
   "metadata": {},
   "outputs": [],
   "source": [
    "x, xc = kucherenko_sampling(problem, N, cov, mu, s=1)"
   ]
  },
  {
   "cell_type": "code",
   "execution_count": null,
   "metadata": {},
   "outputs": [],
   "source": []
  },
  {
   "cell_type": "code",
   "execution_count": 38,
   "metadata": {},
   "outputs": [
    {
     "data": {
      "text/plain": [
       "array([[ 1. , -0. , -0. ],\n",
       "       [-0. ,  1. ,  0.4],\n",
       "       [-0. ,  0.4,  4. ]])"
      ]
     },
     "execution_count": 38,
     "metadata": {},
     "output_type": "execute_result"
    }
   ],
   "source": [
    "np.cov(x, rowvar=0).round(2)"
   ]
  },
  {
   "cell_type": "code",
   "execution_count": 39,
   "metadata": {},
   "outputs": [
    {
     "data": {
      "text/plain": [
       "array([[ 1. ,  0. , -0. ],\n",
       "       [ 0. ,  1. ,  0.4],\n",
       "       [-0. ,  0.4,  4. ]])"
      ]
     },
     "execution_count": 39,
     "metadata": {},
     "output_type": "execute_result"
    }
   ],
   "source": [
    "np.cov(samples.independent, rowvar=0).round(2)"
   ]
  },
  {
   "cell_type": "code",
   "execution_count": 40,
   "metadata": {},
   "outputs": [
    {
     "data": {
      "text/plain": [
       "array([[ 1. , -0. , -0. ],\n",
       "       [-0. ,  1. ,  0.4],\n",
       "       [-0. ,  0.4,  4. ]])"
      ]
     },
     "execution_count": 40,
     "metadata": {},
     "output_type": "execute_result"
    }
   ],
   "source": [
    "np.cov(xc, rowvar=0).round(2)"
   ]
  },
  {
   "cell_type": "code",
   "execution_count": 41,
   "metadata": {},
   "outputs": [
    {
     "data": {
      "text/plain": [
       "array([[1. , 0. , 0. ],\n",
       "       [0. , 1. , 0.4],\n",
       "       [0. , 0.4, 4. ]])"
      ]
     },
     "execution_count": 41,
     "metadata": {},
     "output_type": "execute_result"
    }
   ],
   "source": [
    "np.cov(samples.conditional, rowvar=0).round(2)"
   ]
  },
  {
   "cell_type": "code",
   "execution_count": null,
   "metadata": {},
   "outputs": [],
   "source": []
  },
  {
   "cell_type": "code",
   "execution_count": null,
   "metadata": {},
   "outputs": [],
   "source": []
  },
  {
   "cell_type": "code",
   "execution_count": 36,
   "metadata": {},
   "outputs": [],
   "source": [
    "mean = mu.reshape(-1)\n",
    "cov = cov.values"
   ]
  },
  {
   "cell_type": "code",
   "execution_count": 37,
   "metadata": {},
   "outputs": [],
   "source": [
    "samples = kh._kucherenko_samples(mean, cov, N, \"sobol\", 1)"
   ]
  },
  {
   "cell_type": "code",
   "execution_count": null,
   "metadata": {},
   "outputs": [],
   "source": []
  },
  {
   "cell_type": "code",
   "execution_count": 19,
   "metadata": {},
   "outputs": [
    {
     "data": {
      "image/png": "[encoded data removed]",
      "text/plain": [
       "<Figure size 432x288 with 1 Axes>"
      ]
     },
     "metadata": {
      "needs_background": "light"
     },
     "output_type": "display_data"
    }
   ],
   "source": [
    "for col in x.columns:\n",
    "    sns.kdeplot(x[col])"
   ]
  },
  {
   "cell_type": "code",
   "execution_count": 20,
   "metadata": {},
   "outputs": [
    {
     "data": {
      "image/png": "[encoded data removed]",
      "text/plain": [
       "<Figure size 432x288 with 1 Axes>"
      ]
     },
     "metadata": {
      "needs_background": "light"
     },
     "output_type": "display_data"
    }
   ],
   "source": [
    "for col in xc.columns:\n",
    "    sns.kdeplot(xc[col])"
   ]
  },
  {
   "cell_type": "code",
   "execution_count": 21,
   "metadata": {},
   "outputs": [
    {
     "data": {
      "text/plain": [
       "(-8, 8)"
      ]
     },
     "execution_count": 21,
     "metadata": {},
     "output_type": "execute_result"
    },
    {
     "data": {
      "image/png": "[encoded data removed]",
      "text/plain": [
       "<Figure size 432x288 with 1 Axes>"
      ]
     },
     "metadata": {
      "needs_background": "light"
     },
     "output_type": "display_data"
    }
   ],
   "source": [
    "for i in range(3):\n",
    "    sns.kdeplot(samples.conditional[:, i])\n",
    "    \n",
    "plt.xlim(-8, 8)"
   ]
  },
  {
   "cell_type": "code",
   "execution_count": 22,
   "metadata": {},
   "outputs": [
    {
     "data": {
      "text/plain": [
       "(-8, 8)"
      ]
     },
     "execution_count": 22,
     "metadata": {},
     "output_type": "execute_result"
    },
    {
     "data": {
      "image/png": "[encoded data removed]",
      "text/plain": [
       "<Figure size 432x288 with 1 Axes>"
      ]
     },
     "metadata": {
      "needs_background": "light"
     },
     "output_type": "display_data"
    }
   ],
   "source": [
    "for i in range(3):\n",
    "    sns.kdeplot(samples.independent[:, i])\n",
    "    \n",
    "plt.xlim(-8, 8)"
   ]
  },
  {
   "cell_type": "code",
   "execution_count": null,
   "metadata": {},
   "outputs": [],
   "source": []
  },
  {
   "cell_type": "code",
   "execution_count": 56,
   "metadata": {},
   "outputs": [],
   "source": [
    "covv = np.array([[1, 0, 0], [0, 2, 0.5], [0, 0.5, 3]])"
   ]
  },
  {
   "cell_type": "code",
   "execution_count": 59,
   "metadata": {},
   "outputs": [
    {
     "data": {
      "text/plain": [
       "array([[1. , 0. , 0. ],\n",
       "       [0. , 2. , 0.5],\n",
       "       [0. , 0.5, 3. ]])"
      ]
     },
     "execution_count": 59,
     "metadata": {},
     "output_type": "execute_result"
    }
   ],
   "source": [
    "covv"
   ]
  },
  {
   "cell_type": "code",
   "execution_count": 61,
   "metadata": {},
   "outputs": [
    {
     "data": {
      "text/plain": [
       "array([[3. , 0. , 0.5],\n",
       "       [0. , 1. , 0. ],\n",
       "       [0.5, 0. , 2. ]])"
      ]
     },
     "execution_count": 61,
     "metadata": {},
     "output_type": "execute_result"
    }
   ],
   "source": [
    "kh._shift_cov(covv, 2)"
   ]
  },
  {
   "cell_type": "code",
   "execution_count": 62,
   "metadata": {},
   "outputs": [
    {
     "data": {
      "text/plain": [
       "array([0, 1, 2, 3, 4, 5, 6, 7, 8, 9])"
      ]
     },
     "execution_count": 62,
     "metadata": {},
     "output_type": "execute_result"
    }
   ],
   "source": [
    "x"
   ]
  },
  {
   "cell_type": "code",
   "execution_count": 67,
   "metadata": {},
   "outputs": [
    {
     "data": {
      "text/plain": [
       "array([9, 0, 1, 2, 3, 4, 5, 6, 7, 8])"
      ]
     },
     "execution_count": 67,
     "metadata": {},
     "output_type": "execute_result"
    }
   ],
   "source": [
    "kh._shift_mean(x, 9)"
   ]
  },
  {
   "cell_type": "code",
   "execution_count": null,
   "metadata": {},
   "outputs": [],
   "source": []
  },
  {
   "cell_type": "code",
   "execution_count": 3,
   "metadata": {},
   "outputs": [],
   "source": [
    "arr = np.arange(10).reshape(2, 5)"
   ]
  },
  {
   "cell_type": "code",
   "execution_count": 7,
   "metadata": {},
   "outputs": [
    {
     "data": {
      "text/plain": [
       "array([[0, 1, 2, 3, 4],\n",
       "       [5, 6, 7, 8, 9]])"
      ]
     },
     "execution_count": 7,
     "metadata": {},
     "output_type": "execute_result"
    }
   ],
   "source": [
    "arr"
   ]
  },
  {
   "cell_type": "code",
   "execution_count": 5,
   "metadata": {},
   "outputs": [],
   "source": [
    "import econsa.kucherenko as kh"
   ]
  },
  {
   "cell_type": "code",
   "execution_count": 8,
   "metadata": {},
   "outputs": [],
   "source": [
    "shifted = kh._shift_array(arr, 3)"
   ]
  },
  {
   "cell_type": "code",
   "execution_count": 10,
   "metadata": {},
   "outputs": [
    {
     "data": {
      "text/plain": [
       "array([[3, 4, 0, 1, 2],\n",
       "       [8, 9, 5, 6, 7]])"
      ]
     },
     "execution_count": 10,
     "metadata": {},
     "output_type": "execute_result"
    }
   ],
   "source": [
    "shifted"
   ]
  },
  {
   "cell_type": "code",
   "execution_count": 11,
   "metadata": {},
   "outputs": [
    {
     "data": {
      "text/plain": [
       "array([[0, 1, 2, 3, 4],\n",
       "       [5, 6, 7, 8, 9]])"
      ]
     },
     "execution_count": 11,
     "metadata": {},
     "output_type": "execute_result"
    }
   ],
   "source": [
    "kh._shift_array(shifted, 2)"
   ]
  },
  {
   "cell_type": "code",
   "execution_count": 12,
   "metadata": {},
   "outputs": [],
   "source": [
    "bigcov = np.array([\n",
    "    [1, 0.5, 0.2, 0],\n",
    "    [0.5, 2, 0, 0.3],\n",
    "    [0.2, 0, 3, 0],\n",
    "    [0, 0.3, 0, 4]\n",
    "])"
   ]
  },
  {
   "cell_type": "code",
   "execution_count": 16,
   "metadata": {},
   "outputs": [
    {
     "data": {
      "text/plain": [
       "array([[1. , 0.5, 0.2, 0. ],\n",
       "       [0.5, 2. , 0. , 0.3],\n",
       "       [0.2, 0. , 3. , 0. ],\n",
       "       [0. , 0.3, 0. , 4. ]])"
      ]
     },
     "execution_count": 16,
     "metadata": {},
     "output_type": "execute_result"
    }
   ],
   "source": [
    "bigcov"
   ]
  },
  {
   "cell_type": "code",
   "execution_count": 17,
   "metadata": {},
   "outputs": [
    {
     "data": {
      "text/plain": [
       "array([[3. , 0. , 0.2, 0. ],\n",
       "       [0. , 4. , 0. , 0.3],\n",
       "       [0.2, 0. , 1. , 0.5],\n",
       "       [0. , 0.3, 0.5, 2. ]])"
      ]
     },
     "execution_count": 17,
     "metadata": {},
     "output_type": "execute_result"
    }
   ],
   "source": [
    "kh._shift_cov(bigcov, 2)"
   ]
  },
  {
   "cell_type": "code",
   "execution_count": null,
   "metadata": {},
   "outputs": [],
   "source": []
  },
  {
   "cell_type": "code",
   "execution_count": null,
   "metadata": {},
   "outputs": [],
   "source": []
  },
  {
   "cell_type": "code",
   "execution_count": null,
   "metadata": {},
   "outputs": [],
   "source": []
  },
  {
   "cell_type": "code",
   "execution_count": 1,
   "metadata": {},
   "outputs": [],
   "source": [
    "import numpy as np\n",
    "import chaospy as cp"
   ]
  },
  {
   "cell_type": "code",
   "execution_count": null,
   "metadata": {},
   "outputs": [],
   "source": []
  },
  {
   "cell_type": "code",
   "execution_count": 2,
   "metadata": {},
   "outputs": [],
   "source": [
    "n_draws = 10_000\n",
    "n_params = 3\n",
    "sampling_scheme = \"sobol\"\n",
    "seed=0"
   ]
  },
  {
   "cell_type": "code",
   "execution_count": 3,
   "metadata": {},
   "outputs": [],
   "source": [
    "np.random.seed(seed)"
   ]
  },
  {
   "cell_type": "code",
   "execution_count": null,
   "metadata": {},
   "outputs": [],
   "source": [
    "draws = cp.generate_samples(\n",
    "    order=n_draws, domain=2 * n_params, rule=\"sobol\"\n",
    ").T"
   ]
  },
  {
   "cell_type": "code",
   "execution_count": 25,
   "metadata": {},
   "outputs": [],
   "source": [
    "u = draws[:, :n_params]\n",
    "u_prime = draws[:, n_params:]"
   ]
  },
  {
   "cell_type": "code",
   "execution_count": 26,
   "metadata": {},
   "outputs": [
    {
     "data": {
      "text/plain": [
       "array([[0.0839, 0.0006, 0.0004],\n",
       "       [0.0006, 0.0827, 0.001 ],\n",
       "       [0.0004, 0.001 , 0.0834]])"
      ]
     },
     "execution_count": 26,
     "metadata": {},
     "output_type": "execute_result"
    }
   ],
   "source": [
    "np.cov(u, rowvar=0).round(4)\n",
    "np.cov(u_prime, rowvar=0).round(4)"
   ]
  },
  {
   "cell_type": "code",
   "execution_count": 24,
   "metadata": {},
   "outputs": [],
   "source": [
    "draws = np.random.uniform(size=(n_draws, 2*n_params))"
   ]
  },
  {
   "cell_type": "code",
   "execution_count": null,
   "metadata": {},
   "outputs": [],
   "source": []
  },
  {
   "cell_type": "code",
   "execution_count": null,
   "metadata": {},
   "outputs": [],
   "source": []
  },
  {
   "cell_type": "code",
   "execution_count": null,
   "metadata": {},
   "outputs": [],
   "source": []
  },
  {
   "cell_type": "code",
   "execution_count": null,
   "metadata": {},
   "outputs": [],
   "source": []
  },
  {
   "cell_type": "code",
   "execution_count": null,
   "metadata": {},
   "outputs": [],
   "source": []
  },
  {
   "cell_type": "code",
   "execution_count": null,
   "metadata": {},
   "outputs": [],
   "source": []
  },
  {
   "cell_type": "code",
   "execution_count": null,
   "metadata": {},
   "outputs": [],
   "source": []
  },
  {
   "cell_type": "code",
   "execution_count": null,
   "metadata": {},
   "outputs": [],
   "source": []
  },
  {
   "cell_type": "code",
   "execution_count": null,
   "metadata": {},
   "outputs": [],
   "source": []
  }
 ],
 "metadata": {
  "kernelspec": {
   "display_name": "econsa",
   "language": "python",
   "name": "econsa"
  },
  "language_info": {
   "codemirror_mode": {
    "name": "ipython",
    "version": 3
   },
   "file_extension": ".py",
   "mimetype": "text/x-python",
   "name": "python",
   "nbconvert_exporter": "python",
   "pygments_lexer": "ipython3",
   "version": "3.7.7"
  }
 },
 "nbformat": 4,
 "nbformat_minor": 2
}
